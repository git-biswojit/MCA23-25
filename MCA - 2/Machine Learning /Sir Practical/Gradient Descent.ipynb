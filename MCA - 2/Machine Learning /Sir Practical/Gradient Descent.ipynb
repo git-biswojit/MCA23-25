{
 "cells": [
  {
   "cell_type": "code",
   "execution_count": 1,
   "id": "3a70362e",
   "metadata": {},
   "outputs": [],
   "source": [
    "import numpy as np\n",
    "import random\n",
    "import matplotlib.pyplot as plt"
   ]
  },
  {
   "cell_type": "code",
   "execution_count": 17,
   "id": "26d7c916",
   "metadata": {},
   "outputs": [],
   "source": [
    "x = np.random.randn(100)\n",
    "y = x+np.random.randn(100)*0.3"
   ]
  },
  {
   "cell_type": "code",
   "execution_count": 80,
   "id": "e3e876b5",
   "metadata": {},
   "outputs": [],
   "source": [
    "x=np.array([4,6,10,12])\n",
    "y=np.array([3,5.5,6.5,9])"
   ]
  },
  {
   "cell_type": "code",
   "execution_count": 81,
   "id": "bde853fc",
   "metadata": {},
   "outputs": [
    {
     "data": {
      "text/plain": [
       "<matplotlib.collections.PathCollection at 0x1a7cfa4d1c0>"
      ]
     },
     "execution_count": 81,
     "metadata": {},
     "output_type": "execute_result"
    },
    {
     "data": {
      "image/png": "[encoded data removed]",
      "text/plain": [
       "<Figure size 432x288 with 1 Axes>"
      ]
     },
     "metadata": {
      "needs_background": "light"
     },
     "output_type": "display_data"
    }
   ],
   "source": [
    "plt.scatter(x,y)"
   ]
  },
  {
   "cell_type": "code",
   "execution_count": 57,
   "id": "971ef513",
   "metadata": {},
   "outputs": [],
   "source": [
    "def gradDes(x,y,alpha,niter):\n",
    "    '''x is independent variable\n",
    "    y is dependent variable\n",
    "    alpha is step size\n",
    "    niter is max num of iterations allowed\n",
    "    '''\n",
    "    x0 = np.ones(len(x))\n",
    "    a0 = random.randrange(-1,1)\n",
    "    a1 = random.randrange(-1,1)\n",
    "    cost = [np.mean(np.square(a0+a1*x-y))]\n",
    "    for i in range(niter):\n",
    "        print(a0)\n",
    "        print(a1)\n",
    "        a0 = a0 - alpha*(np.mean((a0 + a1*x) - y))\n",
    "        a1 = a1 - alpha*(np.mean(((a0+a1*x)-y)*x))\n",
    "        cost.append(np.mean(np.square(a0+a1*x-y)))\n",
    "    return cost,a0,a1"
   ]
  },
  {
   "cell_type": "code",
   "execution_count": 19,
   "id": "c8922cd2",
   "metadata": {},
   "outputs": [
    {
     "data": {
      "text/plain": [
       "array([1., 1., 1., 1., 1., 1., 1., 1., 1., 1., 1., 1., 1., 1., 1., 1., 1.,\n",
       "       1., 1., 1., 1., 1., 1., 1., 1., 1., 1., 1., 1., 1., 1., 1., 1., 1.,\n",
       "       1., 1., 1., 1., 1., 1., 1., 1., 1., 1., 1., 1., 1., 1., 1., 1., 1.,\n",
       "       1., 1., 1., 1., 1., 1., 1., 1., 1., 1., 1., 1., 1., 1., 1., 1., 1.,\n",
       "       1., 1., 1., 1., 1., 1., 1., 1., 1., 1., 1., 1., 1., 1., 1., 1., 1.,\n",
       "       1., 1., 1., 1., 1., 1., 1., 1., 1., 1., 1., 1., 1., 1., 1.])"
      ]
     },
     "execution_count": 19,
     "metadata": {},
     "output_type": "execute_result"
    }
   ],
   "source": [
    "np.ones(len(x))"
   ]
  },
  {
   "cell_type": "code",
   "execution_count": 25,
   "id": "e6456e6d",
   "metadata": {},
   "outputs": [
    {
     "data": {
      "text/plain": [
       "array([5.31187484, 5.6088393 , 4.65858331, 5.13912157, 4.53426952,\n",
       "       4.27155989, 4.43693519, 4.46943045, 5.19246227, 5.23739018,\n",
       "       5.65444981, 4.79141058, 5.09845335, 5.35113346, 4.65726528,\n",
       "       4.5148357 , 3.82674415, 5.24458991, 5.02888665, 5.33381571,\n",
       "       4.91383066, 4.40005463, 4.59308286, 4.82783241, 4.66780187,\n",
       "       5.50796279, 4.88065493, 5.19198701, 4.85507657, 5.27683741,\n",
       "       5.00805669, 4.06640399, 4.7083078 , 4.18211621, 4.11634661,\n",
       "       4.31004367, 4.9845925 , 5.26449979, 5.0230128 , 5.64351382,\n",
       "       5.34721763, 5.19693741, 5.23109924, 4.74321105, 4.63526691,\n",
       "       4.85900574, 5.17128518, 4.66975683, 5.18465861, 5.14516853,\n",
       "       4.53295519, 4.41951378, 4.97905078, 5.16945812, 5.14843175,\n",
       "       5.04466481, 4.18681733, 4.80738693, 4.78431986, 4.98148716,\n",
       "       4.99486364, 4.96171779, 4.93082688, 4.25290565, 4.90914703,\n",
       "       4.28832944, 4.54218604, 4.70907729, 5.56830305, 5.08478062,\n",
       "       5.49958762, 5.45507707, 4.71822293, 5.58346848, 4.63806662,\n",
       "       5.22781309, 5.24270226, 5.25446353, 4.5417997 , 5.07930154,\n",
       "       4.73335111, 5.36511838, 4.80318429, 5.25077738, 5.53016848,\n",
       "       4.65202029, 5.78691642, 5.20221918, 4.21088267, 5.60919478,\n",
       "       5.38929079, 5.18092939, 5.6197492 , 3.95998232, 4.17004223,\n",
       "       5.26913172, 5.32301828, 5.2430454 , 5.19849237, 6.18448937])"
      ]
     },
     "execution_count": 25,
     "metadata": {},
     "output_type": "execute_result"
    }
   ],
   "source": [
    "0.5*x + 5"
   ]
  },
  {
   "cell_type": "code",
   "execution_count": 21,
   "id": "ed5d601d",
   "metadata": {},
   "outputs": [
    {
     "data": {
      "text/plain": [
       "array([ 0.64957581,  0.95128585, -1.11928396,  0.02566347, -1.04572433,\n",
       "       -1.08194342, -1.01590434, -0.69528416,  0.82094456,  0.80936675,\n",
       "        1.51518387, -0.66936382,  0.34641189,  1.00511996, -0.68360904,\n",
       "       -0.57795788, -2.45720254,  0.15948541,  0.13203858,  0.15044597,\n",
       "        0.24061771, -1.0734232 , -0.58309107, -0.36253927, -0.72603524,\n",
       "        1.22873472, -0.59185335, -0.12860277, -0.09574924,  0.59600467,\n",
       "        0.16797949, -1.88088859, -0.6605076 , -1.63949829, -1.7623178 ,\n",
       "       -1.05378429, -0.01204768,  0.29291292, -0.01605318,  0.96927102,\n",
       "        0.79026834,  0.15694706,  0.26967557, -0.66376956, -0.9119146 ,\n",
       "       -0.1381908 ,  0.44356153, -0.90426945,  0.51748053,  0.53737669,\n",
       "       -1.15574104, -1.21668859, -0.0763865 ,  0.56326055, -0.27440115,\n",
       "        0.21805666, -1.04807254, -0.53295981, -0.19399529,  0.166957  ,\n",
       "        0.49032362,  0.46392303,  0.30895433, -1.38851227, -0.44543254,\n",
       "       -1.24584253, -0.80376702,  0.05331901,  1.66471666, -0.02442376,\n",
       "        1.21056656,  0.5443949 , -0.42387932,  1.21160973, -0.88312359,\n",
       "        1.08050965,  0.12610909,  0.24798915, -0.68205112, -0.51629506,\n",
       "       -0.23053432,  0.59175493, -0.36181657,  0.61662191,  0.94691764,\n",
       "       -0.89656598,  1.40423452,  0.47651963, -1.78916276,  0.75064405,\n",
       "        0.48318557,  0.31051309,  1.28000794, -2.2414555 , -1.17485469,\n",
       "        0.38606485,  0.91693821,  0.68320628,  0.36975014,  1.98736738])"
      ]
     },
     "execution_count": 21,
     "metadata": {},
     "output_type": "execute_result"
    }
   ],
   "source": [
    "y"
   ]
  },
  {
   "cell_type": "code",
   "execution_count": 96,
   "id": "6b1d6f66",
   "metadata": {},
   "outputs": [
    {
     "name": "stdout",
     "output_type": "stream",
     "text": [
      "-1\n",
      "-1\n",
      "-0.85\n",
      "0.3530000000000002\n",
      "-0.80974\n",
      "0.7015592\n",
      "-0.797767336\n",
      "0.79122677888\n",
      "-0.7930878049504001\n",
      "0.814165986904832\n",
      "-0.7902902058532827\n",
      "0.819906373063519\n",
      "-0.7879798136398314\n",
      "0.8212140420877014\n",
      "-0.7857971388704492\n",
      "0.8213794220524383\n",
      "-0.7836495212459398\n",
      "0.8212506114333091\n",
      "-0.7815130749481451\n",
      "0.821046204968512\n",
      "-0.7793816405961447\n",
      "0.8208225445395047\n",
      "-0.7772536277533436\n",
      "0.8205941518005387\n",
      "-0.7751286236198532\n",
      "0.8203647693577283\n",
      "-0.773006518932273\n",
      "0.8201353615475913\n",
      "-0.7708872826667575\n",
      "0.8199061766157144\n",
      "-0.7687709039693471\n",
      "0.8196772782376336\n",
      "-0.7666573771886643\n",
      "0.8194486825168779\n",
      "-0.7645466980181279\n",
      "0.8192203932958385\n",
      "-0.7624388625016137\n",
      "0.8189924112570471\n",
      "-0.7603338667771614\n",
      "0.8187647362690051\n",
      "-0.7582317070109102\n",
      "0.8185373679908142\n",
      "-0.7561323793800663\n",
      "0.818310306028017\n",
      "-0.754035880068507\n",
      "0.818083549972765\n",
      "-0.7519422052656431\n",
      "0.8178570994141703\n",
      "-0.7498513511661203\n",
      "0.8176309539409738\n",
      "-0.747763313969737\n",
      "0.8174051131422322\n",
      "-0.7456780898814183\n",
      "0.8171795766074939\n",
      "-0.7435956751112036\n",
      "0.8169543439268446\n",
      "-0.7415160658742391\n",
      "0.8167294146909188\n",
      "-0.7394392583907703\n",
      "0.8165047884909005\n",
      "-0.7373652488861346\n",
      "0.8162804649185249\n",
      "-0.7352940335907553\n",
      "0.8160564435660769\n",
      "-0.7332256087401339\n",
      "0.8158327240263907\n",
      "-0.7311599705748438\n",
      "0.8156093058928491\n",
      "-0.7290971153405233\n",
      "0.8153861887593826\n",
      "-0.7270370392878688\n",
      "0.815163372220469\n",
      "-0.7249797386726277\n",
      "0.8149408558711321\n",
      "-0.7229252097555919\n",
      "0.8147186393069418\n",
      "-0.7208734488025914\n",
      "0.8144967221240121\n",
      "-0.7188244520844864\n",
      "0.8142751039190022\n",
      "-0.7167782158771617\n",
      "0.8140537842891136\n",
      "-0.7147347364615192\n",
      "0.813832762832091\n",
      "-0.7126940101234713\n",
      "0.8136120391462214\n",
      "-0.7106560331539343\n",
      "0.8133916128303323\n",
      "-0.7086208018488216\n",
      "0.8131714834837922\n",
      "-0.7065883125090368\n",
      "0.8129516507065089\n",
      "-0.7045585614404671\n",
      "0.8127321140989298\n",
      "-0.7025315449539768\n",
      "0.8125128732620399\n",
      "-0.7005072593654003\n",
      "0.8122939277973624\n",
      "-0.6984857009955352\n",
      "0.812075277306957\n"
     ]
    }
   ],
   "source": [
    "cost,a0,a1 = gradDes(x,y,0.01,50)"
   ]
  },
  {
   "cell_type": "code",
   "execution_count": 97,
   "id": "50b2bcba",
   "metadata": {},
   "outputs": [
    {
     "data": {
      "text/plain": [
       "Text(0, 0.5, 'Cost')"
      ]
     },
     "execution_count": 97,
     "metadata": {},
     "output_type": "execute_result"
    },
    {
     "data": {
      "image/png": "[encoded data removed]",
      "text/plain": [
       "<Figure size 432x288 with 1 Axes>"
      ]
     },
     "metadata": {
      "needs_background": "light"
     },
     "output_type": "display_data"
    }
   ],
   "source": [
    "plt.plot(cost)\n",
    "plt.xlabel('iterations')\n",
    "plt.ylabel('Cost')"
   ]
  },
  {
   "cell_type": "code",
   "execution_count": 98,
   "id": "abd7ba95",
   "metadata": {},
   "outputs": [
    {
     "name": "stdout",
     "output_type": "stream",
     "text": [
      "-0.6964668661701364\n",
      "0.8118569213934197\n"
     ]
    }
   ],
   "source": [
    "print(a0)\n",
    "print(a1)"
   ]
  },
  {
   "cell_type": "code",
   "execution_count": 58,
   "id": "e0700fbb",
   "metadata": {},
   "outputs": [
    {
     "data": {
      "text/plain": [
       "[<matplotlib.lines.Line2D at 0x1deca3e1970>]"
      ]
     },
     "execution_count": 58,
     "metadata": {},
     "output_type": "execute_result"
    },
    {
     "data": {
      "image/png": "[encoded data removed]",
      "text/plain": [
       "<Figure size 432x288 with 1 Axes>"
      ]
     },
     "metadata": {
      "needs_background": "light"
     },
     "output_type": "display_data"
    }
   ],
   "source": [
    "plt.scatter(x,y)\n",
    "plt.plot(x,a0+a1*x)"
   ]
  },
  {
   "cell_type": "code",
   "execution_count": 46,
   "id": "94597d2f",
   "metadata": {},
   "outputs": [
    {
     "data": {
      "text/plain": [
       "<matplotlib.collections.PathCollection at 0x1dec83eb220>"
      ]
     },
     "execution_count": 46,
     "metadata": {},
     "output_type": "execute_result"
    },
    {
     "data": {
      "image/png": "[encoded data removed]",
      "text/plain": [
       "<Figure size 432x288 with 1 Axes>"
      ]
     },
     "metadata": {
      "needs_background": "light"
     },
     "output_type": "display_data"
    }
   ],
   "source": [
    "plt.scatter(x,y)"
   ]
  },
  {
   "cell_type": "code",
   "execution_count": 54,
   "id": "527c597a",
   "metadata": {},
   "outputs": [
    {
     "name": "stdout",
     "output_type": "stream",
     "text": [
      "3.6899745489336078\n"
     ]
    }
   ],
   "source": [
    "# a0=3.1, a1 =-0.9\n",
    "rmse1 = np.sqrt(np.mean(np.square(a0+a1*x-y)))\n",
    "print(rmse1)"
   ]
  },
  {
   "cell_type": "code",
   "execution_count": 59,
   "id": "d6af2412",
   "metadata": {},
   "outputs": [
    {
     "name": "stdout",
     "output_type": "stream",
     "text": [
      "0.27605913102757423\n"
     ]
    }
   ],
   "source": [
    "# a0=0.12, a1 =0.93\n",
    "rmse1 = np.sqrt(np.mean(np.square(a0+a1*x-y)))\n",
    "print(rmse1)"
   ]
  },
  {
   "cell_type": "code",
   "execution_count": null,
   "id": "2937b4fe",
   "metadata": {},
   "outputs": [],
   "source": [
    "predicted = "
   ]
  },
  {
   "cell_type": "code",
   "execution_count": 62,
   "id": "9d91b318",
   "metadata": {},
   "outputs": [
    {
     "data": {
      "text/plain": [
       "0.5973041238189227"
      ]
     },
     "execution_count": 62,
     "metadata": {},
     "output_type": "execute_result"
    }
   ],
   "source": [
    "x[0]*a1 + a0"
   ]
  },
  {
   "cell_type": "code",
   "execution_count": 64,
   "id": "df7acf21",
   "metadata": {},
   "outputs": [],
   "source": [
    "lst=[1,2,3,'abd']"
   ]
  },
  {
   "cell_type": "code",
   "execution_count": 65,
   "id": "d40ad242",
   "metadata": {},
   "outputs": [
    {
     "data": {
      "text/plain": [
       "array(['1', '2', '3', 'abd'], dtype='<U11')"
      ]
     },
     "execution_count": 65,
     "metadata": {},
     "output_type": "execute_result"
    }
   ],
   "source": [
    "np.array(lst)"
   ]
  },
  {
   "cell_type": "code",
   "execution_count": 77,
   "id": "d4399389",
   "metadata": {},
   "outputs": [
    {
     "data": {
      "text/plain": [
       "0.03"
      ]
     },
     "execution_count": 77,
     "metadata": {},
     "output_type": "execute_result"
    }
   ],
   "source": [
    "0.15/5"
   ]
  },
  {
   "cell_type": "code",
   "execution_count": 79,
   "id": "4ca29e06",
   "metadata": {},
   "outputs": [
    {
     "data": {
      "text/plain": [
       "3.21"
      ]
     },
     "execution_count": 79,
     "metadata": {},
     "output_type": "execute_result"
    }
   ],
   "source": [
    "107*.03"
   ]
  },
  {
   "cell_type": "code",
   "execution_count": 64,
   "id": "462b1dcf",
   "metadata": {},
   "outputs": [
    {
     "data": {
      "text/plain": [
       "6.42"
      ]
     },
     "execution_count": 64,
     "metadata": {},
     "output_type": "execute_result"
    }
   ],
   "source": [
    "(15+55+37)*0.06"
   ]
  },
  {
   "cell_type": "code",
   "execution_count": 76,
   "id": "8c3db182",
   "metadata": {},
   "outputs": [
    {
     "data": {
      "text/plain": [
       "-10.959999999999999"
      ]
     },
     "execution_count": 76,
     "metadata": {},
     "output_type": "execute_result"
    }
   ],
   "source": [
    "5.42-16.38"
   ]
  },
  {
   "cell_type": "code",
   "execution_count": null,
   "id": "28a63a3d",
   "metadata": {},
   "outputs": [],
   "source": []
  }
 ],
 "metadata": {
  "kernelspec": {
   "display_name": "Python 3",
   "language": "python",
   "name": "python3"
  },
  "language_info": {
   "codemirror_mode": {
    "name": "ipython",
    "version": 3
   },
   "file_extension": ".py",
   "mimetype": "text/x-python",
   "name": "python",
   "nbconvert_exporter": "python",
   "pygments_lexer": "ipython3",
   "version": "3.8.8"
  }
 },
 "nbformat": 4,
 "nbformat_minor": 5
}
