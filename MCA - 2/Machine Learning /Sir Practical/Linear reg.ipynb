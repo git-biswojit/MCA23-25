{
 "cells": [
  {
   "cell_type": "code",
   "execution_count": 1,
   "id": "6bcb976f",
   "metadata": {},
   "outputs": [],
   "source": [
    "import numpy as np"
   ]
  },
  {
   "cell_type": "code",
   "execution_count": 2,
   "id": "bab14a0a",
   "metadata": {},
   "outputs": [],
   "source": [
    "x = np.array([4,6,10,12])\n",
    "y = np.array([3,5.5,6.5,9])"
   ]
  },
  {
   "cell_type": "code",
   "execution_count": 3,
   "id": "2d26d4f3",
   "metadata": {},
   "outputs": [],
   "source": [
    "mat = np.array([[len(x),np.sum(x)],[np.sum(x),np.sum(x**2)]])"
   ]
  },
  {
   "cell_type": "code",
   "execution_count": 4,
   "id": "bb8ba68e",
   "metadata": {},
   "outputs": [
    {
     "data": {
      "text/plain": [
       "array([[  4,  32],\n",
       "       [ 32, 296]])"
      ]
     },
     "execution_count": 4,
     "metadata": {},
     "output_type": "execute_result"
    }
   ],
   "source": [
    "mat"
   ]
  },
  {
   "cell_type": "code",
   "execution_count": 5,
   "id": "e44f4f0e",
   "metadata": {},
   "outputs": [],
   "source": [
    "parameters = np.dot(np.linalg.inv(mat),np.array([[np.sum(y)],[np.sum(x*y)]]))"
   ]
  },
  {
   "cell_type": "code",
   "execution_count": 6,
   "id": "2bc08038",
   "metadata": {},
   "outputs": [
    {
     "data": {
      "text/plain": [
       "array([[0.8 ],\n",
       "       [0.65]])"
      ]
     },
     "execution_count": 6,
     "metadata": {},
     "output_type": "execute_result"
    }
   ],
   "source": [
    "parameters"
   ]
  },
  {
   "cell_type": "code",
   "execution_count": null,
   "id": "f0d816a5",
   "metadata": {},
   "outputs": [],
   "source": []
  }
 ],
 "metadata": {
  "kernelspec": {
   "display_name": "Python 3",
   "language": "python",
   "name": "python3"
  },
  "language_info": {
   "codemirror_mode": {
    "name": "ipython",
    "version": 3
   },
   "file_extension": ".py",
   "mimetype": "text/x-python",
   "name": "python",
   "nbconvert_exporter": "python",
   "pygments_lexer": "ipython3",
   "version": "3.8.8"
  }
 },
 "nbformat": 4,
 "nbformat_minor": 5
}
